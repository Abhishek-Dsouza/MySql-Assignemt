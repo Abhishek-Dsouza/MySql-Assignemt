{
 "cells": [
  {
   "cell_type": "markdown",
   "id": "5d5a0dc4-b49d-47a2-ba4b-645cfeaec887",
   "metadata": {},
   "source": [
    "## Q1. What is a database? Differentiate between SQL and NoSQL databases.\n",
    "### Answer:-\n",
    "### A database is a structured collection of data that is organized and managed to provide efficient retrieval and manipulation of information. It is designed to store, retrieve, and manage large amounts of data efficiently and effectively.\n",
    "\n",
    "### SQL (Structured Query Language) and NoSQL (Not Only SQL) are two different types of databases that have different architectures, data models, and query languages. Here's how they differ:\n",
    "\n",
    "## SQL Databases:\n",
    "\n",
    "### SQL databases are relational databases that use tables to store data and have a pre-defined schema.\n",
    "### They are based on the ACID (Atomicity, Consistency, Isolation, and Durability) properties, which ensure that the data is stored and retrieved reliably.\n",
    "### SQL databases use SQL as the query language, which is a standardized language used to manage and manipulate relational data.\n",
    "### They are suitable for structured data with well-defined relationships between entities, such as financial transactions, inventory management, and customer data.\n",
    "## NoSQL Databases:\n",
    "\n",
    "### NoSQL databases are non-relational databases that store data in a flexible, unstructured format, such as key-value pairs, documents, or graphs.\n",
    "### They do not have a pre-defined schema and can handle varying types and volumes of data, making them more scalable and flexible than SQL databases.\n",
    "### They do not guarantee ACID properties, but instead, they focus on providing high availability, scalability, and performance.\n",
    "### NoSQL databases have different query languages, depending on the data model used, such as MongoDB's query language for document databases, or Neo4j's query language for graph databases.\n",
    "### They are suitable for handling unstructured or semi-structured data, such as social media feeds, machine logs, and IoT sensor data."
   ]
  },
  {
   "cell_type": "markdown",
   "id": "0e844925-b7c3-42ad-9127-65fc7cc9b5b3",
   "metadata": {},
   "source": [
    "## Q2. What is DDL? Explain why CREATE, DROP, ALTER, and TRUNCATE are used with an example.\n",
    "### Ansewer:-\n",
    "### DDL stands for Data Definition Language and is a set of SQL statements used to define and manage the structure of database objects, such as tables, indexes, and views. DDL statements are used to create, modify, and delete these database objects.\n",
    "\n",
    "### Here are the four common DDL statements and their usage:\n",
    "\n",
    "### CREATE: The CREATE statement is used to create a new database object, such as a table, index, or view. For example, the following SQL statement creates a new table named \"Customers\" with four columns: \"id\", \"name\", \"email\", and \"phone\".\n",
    "### DROP: The DROP statement is used to delete an existing database object. \n",
    "### ALTER: The ALTER statement is used to modify the structure of an existing database object, such as adding or removing columns from a table. \n",
    "### TRUNCATE: The TRUNCATE statement is used to delete all the data in a table while keeping the table structure intact. \n",
    "### "
   ]
  },
  {
   "cell_type": "markdown",
   "id": "afdd7b28-8eb7-4136-92a3-4d372735f244",
   "metadata": {},
   "source": [
    "## Q3. What is DML? Explain INSERT, UPDATE, and DELETE with an example.\n",
    "### Answer:-\n",
    "### DML stands for Data Manipulation Language and is a set of SQL statements used to manage the data within a database. DML statements are used to insert, update, and delete data in the database.\n",
    "\n",
    "### Here are the three common DML statements and their usage:\n",
    "\n",
    "### INSERT: The INSERT statement is used to insert new data into a table.\n",
    "### UPDATE: The UPDATE statement is used to modify existing data in a table. \n",
    "### DELETE: The DELETE statement is used to delete existing data from a table. \n"
   ]
  },
  {
   "cell_type": "markdown",
   "id": "e043c991-3cfe-4b55-a712-6401d245f7fc",
   "metadata": {},
   "source": [
    "## Q4. What is DQL? Explain SELECT with an example.\n",
    "### Answer:-\n",
    "### DQL stands for Data Query Language and is a set of SQL statements used to retrieve data from a database. DQL statements are used to query and filter data from one or more tables in a database.\n",
    "\n",
    "### The most commonly used DQL statement is SELECT, which is used to retrieve data from a table. Here is an example of how SELECT can be used:\n",
    "\n",
    "### Suppose we have a table named \"Employees\" with columns \"id\", \"name\", \"age\", and \"salary\". To retrieve all the data from this table, \n",
    "### SELECT * FROM Employees;\n",
    "### This statement selects all the columns and rows from the \"Employees\" table. The asterisk (*) is a wildcard character that selects all columns. The result set returned by this query will contain all the rows and columns from the table.\n",
    "\n",
    "### We can also specify which columns to retrieve by name. \n",
    "### SELECT name, age FROM Employees;\n"
   ]
  },
  {
   "cell_type": "markdown",
   "id": "28205ca4-44a8-4909-8261-dca4d22df6c3",
   "metadata": {},
   "source": [
    "## Q5. Explain Primary Key and Foreign Key.\n",
    "### Answer:-\n",
    "### Primary key and foreign key are two important concepts in relational database design that help to establish relationships between tables in a database.\n",
    "\n",
    "### Primary Key: A primary key is a column or set of columns in a table that uniquely identifies each row in the table. It is used to enforce data integrity and to ensure that there are no duplicate rows in the table. A primary key column cannot contain null values and must be unique for each row in the table. Examples of primary key columns include employee ID, customer ID, and order ID.\n",
    "### For example, consider a table named \"Customers\" with columns \"id\", \"name\", and \"email\". If we make \"id\" the primary key column, then it will ensure that there are no duplicate customer records in the table and also allows us to link records in this table with records in another table by using the \"id\" column.\n",
    "\n",
    "### Foreign Key: A foreign key is a column in a table that references the primary key of another table. It is used to establish relationships between tables in a database. The foreign key column in one table is linked to the primary key column in another table, creating a relationship between the two tables.\n",
    "### For example, consider a table named \"Orders\" with columns \"order_id\", \"customer_id\", and \"order_date\". Here, \"customer_id\" is a foreign key column that references the primary key column in the \"Customers\" table. This relationship ensures that orders can only be placed for existing customers, and it allows us to retrieve all orders for a specific customer by joining these two tables on the \"customer_id\" column.\n"
   ]
  },
  {
   "cell_type": "markdown",
   "id": "cbd5c954-5f03-4bd8-b0a9-2aecf26ea777",
   "metadata": {},
   "source": [
    "## Q6. Write a python code to connect MySQL to python. Explain the cursor() and execute() method.\n",
    "### Answer:-\n",
    "### Here is a sample Python code to connect to a MySQL database and execute a simple SELECT statement:\n"
   ]
  },
  {
   "cell_type": "code",
   "execution_count": null,
   "id": "d387d690-bf0a-4a51-9c22-07ac80b902d9",
   "metadata": {},
   "outputs": [],
   "source": [
    "import mysql.connector\n",
    "\n",
    "mydb = mysql.connector.connect(\n",
    "  host=\"localhost\",\n",
    "  user=\"username\",\n",
    "  password=\"password\",\n",
    "  database=\"database_name\"\n",
    ")\n",
    "\n",
    "mycursor = mydb.cursor()\n",
    "\n",
    "mycursor.execute(\"SELECT * FROM mytable\")\n",
    "\n",
    "result = mycursor.fetchall()\n",
    "\n",
    "for row in result:\n",
    "  print(row)\n"
   ]
  },
  {
   "cell_type": "markdown",
   "id": "0b03f965-3843-4dff-a8e4-78ac8362b322",
   "metadata": {},
   "source": [
    "## Q7. Give the order of execution of SQL clauses in an SQL query.\n",
    "### Answer:-\n",
    "### The order of execution of SQL clauses in an SQL query is as follows:\n",
    "\n",
    "### FROM - This clause specifies the table(s) from which to retrieve data.\n",
    "\n",
    "### WHERE - This clause specifies the conditions that must be met in order for a row to be selected from the table(s) specified in the FROM clause.\n",
    "\n",
    "### GROUP BY - This clause is used to group the result set by one or more columns.\n",
    "\n",
    "### HAVING - This clause is used to filter the result set based on aggregate values.\n",
    "\n",
    "### SELECT - This clause specifies the columns to be retrieved from the table(s) specified in the FROM clause.\n",
    "\n",
    "### DISTINCT - This clause removes duplicates from the result set.\n",
    "\n",
    "### UNION/INTERSECT/EXCEPT - These clauses are used to combine the results of two or more SELECT statements.\n",
    "\n",
    "### ORDER BY - This clause is used to sort the result set by one or more columns.\n",
    "\n",
    "### LIMIT/OFFSET - These clauses are used to limit the number of rows returned by the query and to specify the starting row.\n",
    "\n",
    "### It's important to note that not all of these clauses are required in every SQL query, and the order in which they appear may vary depending on the specific requirements of the query. However, the order listed above represents a typical sequence of clauses in a SELECT statement."
   ]
  },
  {
   "cell_type": "code",
   "execution_count": null,
   "id": "b078230c-1fa3-4429-bf54-1419cce2a319",
   "metadata": {},
   "outputs": [],
   "source": []
  }
 ],
 "metadata": {
  "kernelspec": {
   "display_name": "Python 3 (ipykernel)",
   "language": "python",
   "name": "python3"
  },
  "language_info": {
   "codemirror_mode": {
    "name": "ipython",
    "version": 3
   },
   "file_extension": ".py",
   "mimetype": "text/x-python",
   "name": "python",
   "nbconvert_exporter": "python",
   "pygments_lexer": "ipython3",
   "version": "3.10.8"
  }
 },
 "nbformat": 4,
 "nbformat_minor": 5
}
